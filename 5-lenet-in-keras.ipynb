{
 "cells": [
  {
   "cell_type": "code",
   "execution_count": 5,
   "metadata": {},
   "outputs": [],
   "source": [
    "# Importing the libraries\n",
    "import keras\n",
    "from keras.datasets import mnist\n",
    "from keras.models import Sequential\n",
    "from keras.layers import Dense, Dropout, Conv2D, MaxPool2D, Flatten"
   ]
  },
  {
   "cell_type": "code",
   "execution_count": 6,
   "metadata": {},
   "outputs": [],
   "source": [
    "# Load the datasets\n",
    "(X_train, y_train), (X_test, y_test) = mnist.load_data()"
   ]
  },
  {
   "cell_type": "code",
   "execution_count": 7,
   "metadata": {},
   "outputs": [
    {
     "data": {
      "text/plain": [
       "(60000, 28, 28)"
      ]
     },
     "execution_count": 7,
     "metadata": {},
     "output_type": "execute_result"
    }
   ],
   "source": [
    "X_train.shape"
   ]
  },
  {
   "cell_type": "code",
   "execution_count": 8,
   "metadata": {},
   "outputs": [],
   "source": [
    "# Preprocessing the data\n",
    "X_train = X_train.reshape(60_000, 28, 28, 1).astype('float32')\n",
    "X_test = X_test.reshape(10_000, 28, 28, 1).astype('float32')"
   ]
  },
  {
   "cell_type": "code",
   "execution_count": 9,
   "metadata": {},
   "outputs": [
    {
     "data": {
      "text/plain": [
       "(60000, 28, 28, 1)"
      ]
     },
     "execution_count": 9,
     "metadata": {},
     "output_type": "execute_result"
    }
   ],
   "source": [
    "X_train.shape"
   ]
  },
  {
   "cell_type": "code",
   "execution_count": 10,
   "metadata": {},
   "outputs": [],
   "source": [
    "X_train /= 255\n",
    "X_test /= 255"
   ]
  },
  {
   "cell_type": "code",
   "execution_count": 11,
   "metadata": {},
   "outputs": [],
   "source": [
    "n_labels = 10\n",
    "y_train = keras.utils.to_categorical(y_train, n_labels)\n",
    "y_test = keras.utils.to_categorical(y_test, n_labels)"
   ]
  },
  {
   "cell_type": "code",
   "execution_count": 12,
   "metadata": {},
   "outputs": [],
   "source": [
    "# Model\n",
    "model = Sequential()\n",
    "\n",
    "# First convolution layer\n",
    "model.add(Conv2D(32, kernel_size=(3, 3), activation=\"relu\", input_shape=(28, 28, 1)))\n",
    "\n",
    "# Second layer with conv, with pooling and dropout\n",
    "model.add(Conv2D(64, kernel_size=(3, 3), activation=\"relu\"))\n",
    "model.add(MaxPool2D(pool_size=(2, 2)))\n",
    "model.add(Dropout(rate=0.25))\n",
    "model.add(Flatten())\n",
    "\n",
    "# dense hidden layer with dropout\n",
    "model.add(Dense(128, activation=\"relu\"))\n",
    "model.add(Dropout(rate=0.5))\n",
    "\n",
    "# output layer\n",
    "model.add(Dense(n_labels, activation='softmax'))"
   ]
  },
  {
   "cell_type": "code",
   "execution_count": 13,
   "metadata": {},
   "outputs": [
    {
     "name": "stdout",
     "output_type": "stream",
     "text": [
      "Model: \"sequential\"\n",
      "_________________________________________________________________\n",
      " Layer (type)                Output Shape              Param #   \n",
      "=================================================================\n",
      " conv2d (Conv2D)             (None, 26, 26, 32)        320       \n",
      "                                                                 \n",
      " conv2d_1 (Conv2D)           (None, 24, 24, 64)        18496     \n",
      "                                                                 \n",
      " max_pooling2d (MaxPooling2  (None, 12, 12, 64)        0         \n",
      " D)                                                              \n",
      "                                                                 \n",
      " dropout (Dropout)           (None, 12, 12, 64)        0         \n",
      "                                                                 \n",
      " flatten (Flatten)           (None, 9216)              0         \n",
      "                                                                 \n",
      " dense (Dense)               (None, 128)               1179776   \n",
      "                                                                 \n",
      " dropout_1 (Dropout)         (None, 128)               0         \n",
      "                                                                 \n",
      " dense_1 (Dense)             (None, 10)                1290      \n",
      "                                                                 \n",
      "=================================================================\n",
      "Total params: 1199882 (4.58 MB)\n",
      "Trainable params: 1199882 (4.58 MB)\n",
      "Non-trainable params: 0 (0.00 Byte)\n",
      "_________________________________________________________________\n"
     ]
    }
   ],
   "source": [
    "# Model summary\n",
    "model.summary()"
   ]
  },
  {
   "cell_type": "code",
   "execution_count": 14,
   "metadata": {},
   "outputs": [],
   "source": [
    "# Compile modeule\n",
    "model.compile(loss='categorical_crossentropy', optimizer='adam', metrics=['accuracy'])"
   ]
  },
  {
   "cell_type": "code",
   "execution_count": 15,
   "metadata": {},
   "outputs": [
    {
     "name": "stdout",
     "output_type": "stream",
     "text": [
      "Epoch 1/10\n",
      "469/469 [==============================] - 31s 65ms/step - loss: 0.2444 - accuracy: 0.9251 - val_loss: 0.0544 - val_accuracy: 0.9825\n",
      "Epoch 2/10\n",
      "469/469 [==============================] - 36s 76ms/step - loss: 0.0848 - accuracy: 0.9744 - val_loss: 0.0376 - val_accuracy: 0.9873\n",
      "Epoch 3/10\n",
      "469/469 [==============================] - 36s 76ms/step - loss: 0.0616 - accuracy: 0.9811 - val_loss: 0.0325 - val_accuracy: 0.9883\n",
      "Epoch 4/10\n",
      "469/469 [==============================] - 34s 73ms/step - loss: 0.0511 - accuracy: 0.9842 - val_loss: 0.0314 - val_accuracy: 0.9895\n",
      "Epoch 5/10\n",
      "469/469 [==============================] - 34s 73ms/step - loss: 0.0429 - accuracy: 0.9863 - val_loss: 0.0293 - val_accuracy: 0.9907\n",
      "Epoch 6/10\n",
      "469/469 [==============================] - 33s 70ms/step - loss: 0.0389 - accuracy: 0.9877 - val_loss: 0.0275 - val_accuracy: 0.9913\n",
      "Epoch 7/10\n",
      "469/469 [==============================] - 36s 77ms/step - loss: 0.0347 - accuracy: 0.9893 - val_loss: 0.0264 - val_accuracy: 0.9919\n",
      "Epoch 8/10\n",
      "469/469 [==============================] - 36s 77ms/step - loss: 0.0303 - accuracy: 0.9902 - val_loss: 0.0252 - val_accuracy: 0.9920\n",
      "Epoch 9/10\n",
      "469/469 [==============================] - 40s 86ms/step - loss: 0.0276 - accuracy: 0.9911 - val_loss: 0.0262 - val_accuracy: 0.9922\n",
      "Epoch 10/10\n",
      "469/469 [==============================] - 39s 83ms/step - loss: 0.0247 - accuracy: 0.9919 - val_loss: 0.0261 - val_accuracy: 0.9920\n"
     ]
    },
    {
     "data": {
      "text/plain": [
       "<keras.src.callbacks.History at 0x172de20d0>"
      ]
     },
     "execution_count": 15,
     "metadata": {},
     "output_type": "execute_result"
    }
   ],
   "source": [
    "model.fit(X_train, y_train, batch_size=128, epochs=10, verbose=1, validation_data=(X_test, y_test))"
   ]
  },
  {
   "cell_type": "code",
   "execution_count": null,
   "metadata": {},
   "outputs": [],
   "source": []
  }
 ],
 "metadata": {
  "kernelspec": {
   "display_name": "py311",
   "language": "python",
   "name": "python3"
  },
  "language_info": {
   "codemirror_mode": {
    "name": "ipython",
    "version": 3
   },
   "file_extension": ".py",
   "mimetype": "text/x-python",
   "name": "python",
   "nbconvert_exporter": "python",
   "pygments_lexer": "ipython3",
   "version": "3.11.3"
  },
  "orig_nbformat": 4
 },
 "nbformat": 4,
 "nbformat_minor": 2
}
