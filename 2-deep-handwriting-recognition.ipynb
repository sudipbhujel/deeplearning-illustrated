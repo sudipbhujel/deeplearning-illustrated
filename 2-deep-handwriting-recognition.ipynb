{
 "cells": [
  {
   "cell_type": "code",
   "execution_count": 1,
   "metadata": {},
   "outputs": [],
   "source": [
    "# Importing the libraries\n",
    "import keras\n",
    "from keras.datasets import mnist\n",
    "from keras.models import Sequential\n",
    "from keras.layers import Dense\n",
    "from keras.optimizers import SGD"
   ]
  },
  {
   "cell_type": "code",
   "execution_count": 2,
   "metadata": {},
   "outputs": [],
   "source": [
    "# Loading dataset\n",
    "(X_train, y_train), (X_test, y_test) = mnist.load_data()"
   ]
  },
  {
   "cell_type": "code",
   "execution_count": 3,
   "metadata": {},
   "outputs": [],
   "source": [
    "# Preprocess data\n",
    "X_train = X_train.reshape(60_000, 784).astype(\"float32\")\n",
    "X_test = X_test.reshape(10_000, 784).astype(\"float32\")"
   ]
  },
  {
   "cell_type": "code",
   "execution_count": 4,
   "metadata": {},
   "outputs": [],
   "source": [
    "X_train /= 255\n",
    "X_test /= 255"
   ]
  },
  {
   "cell_type": "code",
   "execution_count": 5,
   "metadata": {},
   "outputs": [],
   "source": [
    "# Converting integer label to one-hot\n",
    "n_classes = 10\n",
    "y_train = keras.utils.to_categorical(y_train, n_classes)\n",
    "y_test = keras.utils.to_categorical(y_test, n_classes)"
   ]
  },
  {
   "cell_type": "code",
   "execution_count": 6,
   "metadata": {},
   "outputs": [],
   "source": [
    "# Define a model\n",
    "model = Sequential()\n",
    "model.add(Dense(64, activation='relu', input_shape=(784,)))\n",
    "model.add(Dense(64, activation='relu'))\n",
    "model.add(Dense(10, activation='softmax'))"
   ]
  },
  {
   "cell_type": "code",
   "execution_count": 7,
   "metadata": {},
   "outputs": [
    {
     "name": "stdout",
     "output_type": "stream",
     "text": [
      "Model: \"sequential\"\n",
      "_________________________________________________________________\n",
      " Layer (type)                Output Shape              Param #   \n",
      "=================================================================\n",
      " dense (Dense)               (None, 64)                50240     \n",
      "                                                                 \n",
      " dense_1 (Dense)             (None, 64)                4160      \n",
      "                                                                 \n",
      " dense_2 (Dense)             (None, 10)                650       \n",
      "                                                                 \n",
      "=================================================================\n",
      "Total params: 55050 (215.04 KB)\n",
      "Trainable params: 55050 (215.04 KB)\n",
      "Non-trainable params: 0 (0.00 Byte)\n",
      "_________________________________________________________________\n"
     ]
    }
   ],
   "source": [
    "# Model summary\n",
    "model.summary()"
   ]
  },
  {
   "cell_type": "code",
   "execution_count": 8,
   "metadata": {},
   "outputs": [
    {
     "name": "stderr",
     "output_type": "stream",
     "text": [
      "WARNING:absl:At this time, the v2.11+ optimizer `tf.keras.optimizers.SGD` runs slowly on M1/M2 Macs, please use the legacy Keras optimizer instead, located at `tf.keras.optimizers.legacy.SGD`.\n",
      "WARNING:absl:`lr` is deprecated in Keras optimizer, please use `learning_rate` or use the legacy optimizer, e.g.,tf.keras.optimizers.legacy.SGD.\n",
      "WARNING:absl:There is a known slowdown when using v2.11+ Keras optimizers on M1/M2 Macs. Falling back to the legacy Keras optimizer, i.e., `tf.keras.optimizers.legacy.SGD`.\n"
     ]
    }
   ],
   "source": [
    "# Compile model\n",
    "model.compile(loss='categorical_crossentropy', optimizer=SGD(lr=0.1), metrics=['accuracy'])"
   ]
  },
  {
   "cell_type": "code",
   "execution_count": 9,
   "metadata": {},
   "outputs": [
    {
     "name": "stdout",
     "output_type": "stream",
     "text": [
      "Epoch 1/20\n",
      "469/469 [==============================] - 1s 1ms/step - loss: 1.3718 - accuracy: 0.6383 - val_loss: 0.6869 - val_accuracy: 0.8369\n",
      "Epoch 2/20\n",
      "469/469 [==============================] - 0s 993us/step - loss: 0.5468 - accuracy: 0.8605 - val_loss: 0.4313 - val_accuracy: 0.8846\n",
      "Epoch 3/20\n",
      "469/469 [==============================] - 0s 937us/step - loss: 0.4096 - accuracy: 0.8880 - val_loss: 0.3602 - val_accuracy: 0.8986\n",
      "Epoch 4/20\n",
      "469/469 [==============================] - 0s 827us/step - loss: 0.3583 - accuracy: 0.9006 - val_loss: 0.3241 - val_accuracy: 0.9072\n",
      "Epoch 5/20\n",
      "469/469 [==============================] - 0s 810us/step - loss: 0.3286 - accuracy: 0.9069 - val_loss: 0.3044 - val_accuracy: 0.9127\n",
      "Epoch 6/20\n",
      "469/469 [==============================] - 0s 882us/step - loss: 0.3073 - accuracy: 0.9135 - val_loss: 0.2869 - val_accuracy: 0.9179\n",
      "Epoch 7/20\n",
      "469/469 [==============================] - 0s 814us/step - loss: 0.2910 - accuracy: 0.9173 - val_loss: 0.2722 - val_accuracy: 0.9217\n",
      "Epoch 8/20\n",
      "469/469 [==============================] - 0s 809us/step - loss: 0.2774 - accuracy: 0.9212 - val_loss: 0.2619 - val_accuracy: 0.9256\n",
      "Epoch 9/20\n",
      "469/469 [==============================] - 0s 804us/step - loss: 0.2663 - accuracy: 0.9235 - val_loss: 0.2522 - val_accuracy: 0.9281\n",
      "Epoch 10/20\n",
      "469/469 [==============================] - 0s 808us/step - loss: 0.2564 - accuracy: 0.9272 - val_loss: 0.2452 - val_accuracy: 0.9296\n",
      "Epoch 11/20\n",
      "469/469 [==============================] - 0s 812us/step - loss: 0.2474 - accuracy: 0.9290 - val_loss: 0.2374 - val_accuracy: 0.9320\n",
      "Epoch 12/20\n",
      "469/469 [==============================] - 0s 820us/step - loss: 0.2396 - accuracy: 0.9320 - val_loss: 0.2302 - val_accuracy: 0.9348\n",
      "Epoch 13/20\n",
      "469/469 [==============================] - 0s 807us/step - loss: 0.2321 - accuracy: 0.9337 - val_loss: 0.2270 - val_accuracy: 0.9338\n",
      "Epoch 14/20\n",
      "469/469 [==============================] - 0s 866us/step - loss: 0.2257 - accuracy: 0.9354 - val_loss: 0.2206 - val_accuracy: 0.9364\n",
      "Epoch 15/20\n",
      "469/469 [==============================] - 0s 822us/step - loss: 0.2195 - accuracy: 0.9366 - val_loss: 0.2130 - val_accuracy: 0.9382\n",
      "Epoch 16/20\n",
      "469/469 [==============================] - 0s 837us/step - loss: 0.2133 - accuracy: 0.9386 - val_loss: 0.2078 - val_accuracy: 0.9402\n",
      "Epoch 17/20\n",
      "469/469 [==============================] - 0s 823us/step - loss: 0.2074 - accuracy: 0.9403 - val_loss: 0.2022 - val_accuracy: 0.9404\n",
      "Epoch 18/20\n",
      "469/469 [==============================] - 0s 807us/step - loss: 0.2021 - accuracy: 0.9420 - val_loss: 0.1972 - val_accuracy: 0.9420\n",
      "Epoch 19/20\n",
      "469/469 [==============================] - 0s 821us/step - loss: 0.1972 - accuracy: 0.9428 - val_loss: 0.1933 - val_accuracy: 0.9433\n",
      "Epoch 20/20\n",
      "469/469 [==============================] - 0s 828us/step - loss: 0.1925 - accuracy: 0.9445 - val_loss: 0.1885 - val_accuracy: 0.9446\n"
     ]
    },
    {
     "data": {
      "text/plain": [
       "<keras.src.callbacks.History at 0x15ed08a50>"
      ]
     },
     "execution_count": 9,
     "metadata": {},
     "output_type": "execute_result"
    }
   ],
   "source": [
    "# Train\n",
    "model.fit(\n",
    "    X_train,\n",
    "    y_train,\n",
    "    batch_size=128,\n",
    "    verbose=1,\n",
    "    epochs=20,\n",
    "    validation_data=(X_test, y_test)\n",
    ")"
   ]
  },
  {
   "cell_type": "code",
   "execution_count": null,
   "metadata": {},
   "outputs": [],
   "source": []
  }
 ],
 "metadata": {
  "kernelspec": {
   "display_name": "py311",
   "language": "python",
   "name": "python3"
  },
  "language_info": {
   "codemirror_mode": {
    "name": "ipython",
    "version": 3
   },
   "file_extension": ".py",
   "mimetype": "text/x-python",
   "name": "python",
   "nbconvert_exporter": "python",
   "pygments_lexer": "ipython3",
   "version": "3.11.3"
  },
  "orig_nbformat": 4
 },
 "nbformat": 4,
 "nbformat_minor": 2
}
