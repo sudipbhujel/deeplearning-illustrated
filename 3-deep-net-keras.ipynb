{
 "cells": [
  {
   "cell_type": "code",
   "execution_count": 23,
   "metadata": {},
   "outputs": [],
   "source": [
    "# Importing the libraries\n",
    "import keras\n",
    "from keras.datasets import mnist\n",
    "from keras.models import Sequential\n",
    "from keras.layers import Dense, Dropout, BatchNormalization\n",
    "from keras.callbacks import TensorBoard # new! "
   ]
  },
  {
   "cell_type": "code",
   "execution_count": 24,
   "metadata": {},
   "outputs": [],
   "source": [
    "# Loading dataset\n",
    "(X_train, y_train), (X_test, y_test) = mnist.load_data()"
   ]
  },
  {
   "cell_type": "code",
   "execution_count": 25,
   "metadata": {},
   "outputs": [],
   "source": [
    "# Preprocess data\n",
    "X_train = X_train.reshape(60_000, 784).astype(\"float32\")\n",
    "X_test = X_test.reshape(10_000, 784).astype(\"float32\")"
   ]
  },
  {
   "cell_type": "code",
   "execution_count": 26,
   "metadata": {},
   "outputs": [],
   "source": [
    "X_train /= 255\n",
    "X_test /= 255"
   ]
  },
  {
   "cell_type": "code",
   "execution_count": 27,
   "metadata": {},
   "outputs": [],
   "source": [
    "# Converting integer label to one-hot\n",
    "n_classes = 10\n",
    "y_train = keras.utils.to_categorical(y_train, n_classes)\n",
    "y_test = keras.utils.to_categorical(y_test, n_classes)"
   ]
  },
  {
   "cell_type": "code",
   "execution_count": 28,
   "metadata": {},
   "outputs": [],
   "source": [
    "# Define a model\n",
    "model = Sequential()\n",
    "\n",
    "model.add(Dense(64, activation='relu', input_shape=(784,)))\n",
    "model.add(BatchNormalization())\n",
    "\n",
    "model.add(Dense(64, activation='relu'))\n",
    "model.add(BatchNormalization())\n",
    "\n",
    "model.add(Dense(64, activation='relu'))\n",
    "model.add(BatchNormalization())\n",
    "model.add(Dropout(0.2))\n",
    "\n",
    "model.add(Dense(10, activation='softmax'))"
   ]
  },
  {
   "cell_type": "code",
   "execution_count": 29,
   "metadata": {},
   "outputs": [],
   "source": [
    "# Compile model\n",
    "model.compile(loss='categorical_crossentropy', optimizer=\"adam\", metrics=['accuracy'])"
   ]
  },
  {
   "cell_type": "code",
   "execution_count": 30,
   "metadata": {},
   "outputs": [],
   "source": [
    "# Set TensorBoard logging directory\n",
    "tensorboard = TensorBoard('logs/deep-net')"
   ]
  },
  {
   "cell_type": "code",
   "execution_count": 31,
   "metadata": {},
   "outputs": [
    {
     "name": "stdout",
     "output_type": "stream",
     "text": [
      "Epoch 1/20\n",
      "469/469 [==============================] - 1s 2ms/step - loss: 0.3871 - accuracy: 0.8850 - val_loss: 0.1634 - val_accuracy: 0.9493\n",
      "Epoch 2/20\n",
      "469/469 [==============================] - 1s 1ms/step - loss: 0.1543 - accuracy: 0.9539 - val_loss: 0.1205 - val_accuracy: 0.9618\n",
      "Epoch 3/20\n",
      "469/469 [==============================] - 1s 2ms/step - loss: 0.1155 - accuracy: 0.9649 - val_loss: 0.1066 - val_accuracy: 0.9674\n",
      "Epoch 4/20\n",
      "469/469 [==============================] - 1s 1ms/step - loss: 0.0938 - accuracy: 0.9713 - val_loss: 0.0988 - val_accuracy: 0.9685\n",
      "Epoch 5/20\n",
      "469/469 [==============================] - 1s 1ms/step - loss: 0.0802 - accuracy: 0.9756 - val_loss: 0.0984 - val_accuracy: 0.9702\n",
      "Epoch 6/20\n",
      "469/469 [==============================] - 1s 1ms/step - loss: 0.0705 - accuracy: 0.9775 - val_loss: 0.0857 - val_accuracy: 0.9747\n",
      "Epoch 7/20\n",
      "469/469 [==============================] - 1s 1ms/step - loss: 0.0611 - accuracy: 0.9805 - val_loss: 0.0951 - val_accuracy: 0.9706\n",
      "Epoch 8/20\n",
      "469/469 [==============================] - 1s 1ms/step - loss: 0.0558 - accuracy: 0.9818 - val_loss: 0.0962 - val_accuracy: 0.9717\n",
      "Epoch 9/20\n",
      "469/469 [==============================] - 1s 1ms/step - loss: 0.0481 - accuracy: 0.9846 - val_loss: 0.0933 - val_accuracy: 0.9730\n",
      "Epoch 10/20\n",
      "469/469 [==============================] - 1s 1ms/step - loss: 0.0477 - accuracy: 0.9847 - val_loss: 0.0843 - val_accuracy: 0.9756\n",
      "Epoch 11/20\n",
      "469/469 [==============================] - 1s 1ms/step - loss: 0.0383 - accuracy: 0.9874 - val_loss: 0.0974 - val_accuracy: 0.9705\n",
      "Epoch 12/20\n",
      "469/469 [==============================] - 1s 1ms/step - loss: 0.0374 - accuracy: 0.9877 - val_loss: 0.0918 - val_accuracy: 0.9737\n",
      "Epoch 13/20\n",
      "469/469 [==============================] - 1s 1ms/step - loss: 0.0351 - accuracy: 0.9880 - val_loss: 0.0879 - val_accuracy: 0.9765\n",
      "Epoch 14/20\n",
      "469/469 [==============================] - 1s 1ms/step - loss: 0.0344 - accuracy: 0.9885 - val_loss: 0.0880 - val_accuracy: 0.9756\n",
      "Epoch 15/20\n",
      "469/469 [==============================] - 1s 1ms/step - loss: 0.0304 - accuracy: 0.9895 - val_loss: 0.0887 - val_accuracy: 0.9760\n",
      "Epoch 16/20\n",
      "469/469 [==============================] - 1s 1ms/step - loss: 0.0276 - accuracy: 0.9910 - val_loss: 0.0933 - val_accuracy: 0.9752\n",
      "Epoch 17/20\n",
      "469/469 [==============================] - 1s 1ms/step - loss: 0.0280 - accuracy: 0.9904 - val_loss: 0.0961 - val_accuracy: 0.9754\n",
      "Epoch 18/20\n",
      "469/469 [==============================] - 1s 1ms/step - loss: 0.0254 - accuracy: 0.9911 - val_loss: 0.0955 - val_accuracy: 0.9745\n",
      "Epoch 19/20\n",
      "469/469 [==============================] - 1s 1ms/step - loss: 0.0260 - accuracy: 0.9915 - val_loss: 0.0933 - val_accuracy: 0.9757\n",
      "Epoch 20/20\n",
      "469/469 [==============================] - 1s 1ms/step - loss: 0.0222 - accuracy: 0.9924 - val_loss: 0.0971 - val_accuracy: 0.9749\n"
     ]
    },
    {
     "data": {
      "text/plain": [
       "<keras.src.callbacks.History at 0x14f4de390>"
      ]
     },
     "execution_count": 31,
     "metadata": {},
     "output_type": "execute_result"
    }
   ],
   "source": [
    "# Train\n",
    "model.fit(\n",
    "    X_train,\n",
    "    y_train,\n",
    "    batch_size=128,\n",
    "    verbose=1,\n",
    "    epochs=20,\n",
    "    validation_data=(X_test, y_test)\n",
    ")"
   ]
  },
  {
   "cell_type": "code",
   "execution_count": null,
   "metadata": {},
   "outputs": [],
   "source": []
  }
 ],
 "metadata": {
  "kernelspec": {
   "display_name": "py311",
   "language": "python",
   "name": "python3"
  },
  "language_info": {
   "codemirror_mode": {
    "name": "ipython",
    "version": 3
   },
   "file_extension": ".py",
   "mimetype": "text/x-python",
   "name": "python",
   "nbconvert_exporter": "python",
   "pygments_lexer": "ipython3",
   "version": "3.11.3"
  },
  "orig_nbformat": 4
 },
 "nbformat": 4,
 "nbformat_minor": 2
}
