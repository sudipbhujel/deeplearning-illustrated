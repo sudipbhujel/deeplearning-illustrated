{
 "cells": [
  {
   "cell_type": "code",
   "execution_count": 18,
   "metadata": {},
   "outputs": [],
   "source": [
    "# Import the libraries\n",
    "import numpy as np\n",
    "from keras.datasets import boston_housing\n",
    "from keras.models import Sequential\n",
    "from keras.layers import Dense, Dropout, BatchNormalization"
   ]
  },
  {
   "cell_type": "code",
   "execution_count": 2,
   "metadata": {},
   "outputs": [
    {
     "name": "stdout",
     "output_type": "stream",
     "text": [
      "Downloading data from https://storage.googleapis.com/tensorflow/tf-keras-datasets/boston_housing.npz\n",
      "57026/57026 [==============================] - 0s 3us/step\n"
     ]
    }
   ],
   "source": [
    "# Loading dataset\n",
    "(X_train, y_train), (X_test, y_test) = boston_housing.load_data()"
   ]
  },
  {
   "cell_type": "code",
   "execution_count": 3,
   "metadata": {},
   "outputs": [
    {
     "data": {
      "text/plain": [
       "(404, 13)"
      ]
     },
     "execution_count": 3,
     "metadata": {},
     "output_type": "execute_result"
    }
   ],
   "source": [
    "# Preview\n",
    "X_train.shape"
   ]
  },
  {
   "cell_type": "code",
   "execution_count": 4,
   "metadata": {},
   "outputs": [
    {
     "data": {
      "text/plain": [
       "array([  1.23247,   0.     ,   8.14   ,   0.     ,   0.538  ,   6.142  ,\n",
       "        91.7    ,   3.9769 ,   4.     , 307.     ,  21.     , 396.9    ,\n",
       "        18.72   ])"
      ]
     },
     "execution_count": 4,
     "metadata": {},
     "output_type": "execute_result"
    }
   ],
   "source": [
    "X_train[0]"
   ]
  },
  {
   "cell_type": "code",
   "execution_count": 5,
   "metadata": {},
   "outputs": [],
   "source": [
    "# Defining the model\n",
    "model = Sequential()\n",
    "\n",
    "model.add(Dense(32, input_dim=13, activation='relu'))\n",
    "model.add(BatchNormalization())\n",
    "\n",
    "model.add(Dense(16, activation='relu'))\n",
    "model.add(BatchNormalization())\n",
    "model.add(Dropout(0.2))\n",
    "\n",
    "model.add(Dense(1, activation='linear'))"
   ]
  },
  {
   "cell_type": "code",
   "execution_count": 6,
   "metadata": {},
   "outputs": [
    {
     "name": "stdout",
     "output_type": "stream",
     "text": [
      "Model: \"sequential\"\n",
      "_________________________________________________________________\n",
      " Layer (type)                Output Shape              Param #   \n",
      "=================================================================\n",
      " dense (Dense)               (None, 32)                448       \n",
      "                                                                 \n",
      " batch_normalization (Batch  (None, 32)                128       \n",
      " Normalization)                                                  \n",
      "                                                                 \n",
      " dense_1 (Dense)             (None, 16)                528       \n",
      "                                                                 \n",
      " batch_normalization_1 (Bat  (None, 16)                64        \n",
      " chNormalization)                                                \n",
      "                                                                 \n",
      " dropout (Dropout)           (None, 16)                0         \n",
      "                                                                 \n",
      " dense_2 (Dense)             (None, 1)                 17        \n",
      "                                                                 \n",
      "=================================================================\n",
      "Total params: 1185 (4.63 KB)\n",
      "Trainable params: 1089 (4.25 KB)\n",
      "Non-trainable params: 96 (384.00 Byte)\n",
      "_________________________________________________________________\n"
     ]
    }
   ],
   "source": [
    "# Summary\n",
    "model.summary()"
   ]
  },
  {
   "cell_type": "code",
   "execution_count": 14,
   "metadata": {},
   "outputs": [],
   "source": [
    "# Compiling the model\n",
    "model.compile(loss=\"mean_squared_error\", optimizer=\"adam\",)"
   ]
  },
  {
   "cell_type": "code",
   "execution_count": 15,
   "metadata": {},
   "outputs": [
    {
     "name": "stdout",
     "output_type": "stream",
     "text": [
      "Epoch 1/32\n",
      "51/51 [==============================] - 0s 2ms/step - loss: 42.4419 - val_loss: 46.1996\n",
      "Epoch 2/32\n",
      "51/51 [==============================] - 0s 917us/step - loss: 38.7738 - val_loss: 33.3727\n",
      "Epoch 3/32\n",
      "51/51 [==============================] - 0s 1ms/step - loss: 38.7262 - val_loss: 44.3883\n",
      "Epoch 4/32\n",
      "51/51 [==============================] - 0s 870us/step - loss: 37.4266 - val_loss: 44.4148\n",
      "Epoch 5/32\n",
      "51/51 [==============================] - 0s 848us/step - loss: 31.9579 - val_loss: 36.4468\n",
      "Epoch 6/32\n",
      "51/51 [==============================] - 0s 842us/step - loss: 38.7522 - val_loss: 38.9264\n",
      "Epoch 7/32\n",
      "51/51 [==============================] - 0s 858us/step - loss: 37.4147 - val_loss: 39.5995\n",
      "Epoch 8/32\n",
      "51/51 [==============================] - 0s 932us/step - loss: 40.7284 - val_loss: 68.6187\n",
      "Epoch 9/32\n",
      "51/51 [==============================] - 0s 918us/step - loss: 34.4130 - val_loss: 47.5372\n",
      "Epoch 10/32\n",
      "51/51 [==============================] - 0s 896us/step - loss: 37.0523 - val_loss: 46.9467\n",
      "Epoch 11/32\n",
      "51/51 [==============================] - 0s 866us/step - loss: 41.5758 - val_loss: 53.9162\n",
      "Epoch 12/32\n",
      "51/51 [==============================] - 0s 1ms/step - loss: 36.8410 - val_loss: 40.1873\n",
      "Epoch 13/32\n",
      "51/51 [==============================] - 0s 898us/step - loss: 35.6529 - val_loss: 62.3030\n",
      "Epoch 14/32\n",
      "51/51 [==============================] - 0s 902us/step - loss: 34.7252 - val_loss: 45.1103\n",
      "Epoch 15/32\n",
      "51/51 [==============================] - 0s 915us/step - loss: 39.8983 - val_loss: 64.4735\n",
      "Epoch 16/32\n",
      "51/51 [==============================] - 0s 925us/step - loss: 40.0254 - val_loss: 39.8418\n",
      "Epoch 17/32\n",
      "51/51 [==============================] - 0s 890us/step - loss: 35.7766 - val_loss: 43.6922\n",
      "Epoch 18/32\n",
      "51/51 [==============================] - 0s 845us/step - loss: 36.6661 - val_loss: 58.5528\n",
      "Epoch 19/32\n",
      "51/51 [==============================] - 0s 881us/step - loss: 34.7951 - val_loss: 46.1779\n",
      "Epoch 20/32\n",
      "51/51 [==============================] - 0s 862us/step - loss: 38.1183 - val_loss: 43.3654\n",
      "Epoch 21/32\n",
      "51/51 [==============================] - 0s 879us/step - loss: 40.3500 - val_loss: 39.7490\n",
      "Epoch 22/32\n",
      "51/51 [==============================] - 0s 1ms/step - loss: 29.7918 - val_loss: 40.2512\n",
      "Epoch 23/32\n",
      "51/51 [==============================] - 0s 833us/step - loss: 35.2778 - val_loss: 47.9861\n",
      "Epoch 24/32\n",
      "51/51 [==============================] - 0s 852us/step - loss: 33.4358 - val_loss: 47.8387\n",
      "Epoch 25/32\n",
      "51/51 [==============================] - 0s 828us/step - loss: 32.2983 - val_loss: 44.9466\n",
      "Epoch 26/32\n",
      "51/51 [==============================] - 0s 852us/step - loss: 32.8871 - val_loss: 129.0247\n",
      "Epoch 27/32\n",
      "51/51 [==============================] - 0s 833us/step - loss: 32.9199 - val_loss: 68.8785\n",
      "Epoch 28/32\n",
      "51/51 [==============================] - 0s 2ms/step - loss: 32.7621 - val_loss: 50.2328\n",
      "Epoch 29/32\n",
      "51/51 [==============================] - 0s 861us/step - loss: 39.6004 - val_loss: 42.3089\n",
      "Epoch 30/32\n",
      "51/51 [==============================] - 0s 845us/step - loss: 33.1762 - val_loss: 37.3622\n",
      "Epoch 31/32\n",
      "51/51 [==============================] - 0s 853us/step - loss: 35.0691 - val_loss: 152.3663\n",
      "Epoch 32/32\n",
      "51/51 [==============================] - 0s 838us/step - loss: 37.3652 - val_loss: 57.6746\n"
     ]
    },
    {
     "data": {
      "text/plain": [
       "<keras.src.callbacks.History at 0x154183290>"
      ]
     },
     "execution_count": 15,
     "metadata": {},
     "output_type": "execute_result"
    }
   ],
   "source": [
    "# Training\n",
    "model.fit(\n",
    "    X_train,\n",
    "    y_train,\n",
    "    batch_size=8,\n",
    "    epochs=32,\n",
    "    verbose=1,\n",
    "    validation_data=(X_test, y_test),\n",
    ")"
   ]
  },
  {
   "cell_type": "code",
   "execution_count": 20,
   "metadata": {},
   "outputs": [
    {
     "name": "stdout",
     "output_type": "stream",
     "text": [
      "1/1 [==============================] - 0s 60ms/step\n"
     ]
    },
    {
     "data": {
      "text/plain": [
       "array([[16.528677]], dtype=float32)"
      ]
     },
     "execution_count": 20,
     "metadata": {},
     "output_type": "execute_result"
    }
   ],
   "source": [
    "# Predict\n",
    "model.predict(np.reshape(X_test[42], [1, 13]))"
   ]
  },
  {
   "cell_type": "code",
   "execution_count": 21,
   "metadata": {},
   "outputs": [
    {
     "data": {
      "text/plain": [
       "14.1"
      ]
     },
     "execution_count": 21,
     "metadata": {},
     "output_type": "execute_result"
    }
   ],
   "source": [
    "y_test[42]"
   ]
  },
  {
   "cell_type": "code",
   "execution_count": null,
   "metadata": {},
   "outputs": [],
   "source": []
  }
 ],
 "metadata": {
  "kernelspec": {
   "display_name": "py311",
   "language": "python",
   "name": "python3"
  },
  "language_info": {
   "codemirror_mode": {
    "name": "ipython",
    "version": 3
   },
   "file_extension": ".py",
   "mimetype": "text/x-python",
   "name": "python",
   "nbconvert_exporter": "python",
   "pygments_lexer": "ipython3",
   "version": "3.11.3"
  },
  "orig_nbformat": 4
 },
 "nbformat": 4,
 "nbformat_minor": 2
}
